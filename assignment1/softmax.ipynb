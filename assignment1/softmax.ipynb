{
 "cells": [
  {
   "cell_type": "markdown",
   "metadata": {},
   "source": [
    "# Softmax exercise\n",
    "\n",
    "*Complete and hand in this completed worksheet (including its outputs and any supporting code outside of the worksheet) with your assignment submission. For more details see the [assignments page](http://vision.stanford.edu/teaching/cs231n/assignments.html) on the course website.*\n",
    "\n",
    "This exercise is analogous to the SVM exercise. You will:\n",
    "\n",
    "- implement a fully-vectorized **loss function** for the Softmax classifier\n",
    "- implement the fully-vectorized expression for its **analytic gradient**\n",
    "- **check your implementation** with numerical gradient\n",
    "- use a validation set to **tune the learning rate and regularization** strength\n",
    "- **optimize** the loss function with **SGD**\n",
    "- **visualize** the final learned weights\n"
   ]
  },
  {
   "cell_type": "code",
   "execution_count": 1,
   "metadata": {
    "collapsed": false
   },
   "outputs": [],
   "source": [
    "import random\n",
    "import numpy as np\n",
    "from cs231n.data_utils import load_CIFAR10\n",
    "import matplotlib.pyplot as plt\n",
    "%matplotlib inline\n",
    "plt.rcParams['figure.figsize'] = (10.0, 8.0) # set default size of plots\n",
    "plt.rcParams['image.interpolation'] = 'nearest'\n",
    "plt.rcParams['image.cmap'] = 'gray'\n",
    "\n",
    "# for auto-reloading extenrnal modules\n",
    "# see http://stackoverflow.com/questions/1907993/autoreload-of-modules-in-ipython\n",
    "%load_ext autoreload\n",
    "%autoreload 2"
   ]
  },
  {
   "cell_type": "code",
   "execution_count": 2,
   "metadata": {
    "collapsed": false
   },
   "outputs": [
    {
     "name": "stdout",
     "output_type": "stream",
     "text": [
      "Train data shape:  (49000, 3073)\n",
      "Train labels shape:  (49000,)\n",
      "Validation data shape:  (1000, 3073)\n",
      "Validation labels shape:  (1000,)\n",
      "Test data shape:  (1000, 3073)\n",
      "Test labels shape:  (1000,)\n",
      "dev data shape:  (500, 3073)\n",
      "dev labels shape:  (500,)\n"
     ]
    }
   ],
   "source": [
    "def get_CIFAR10_data(num_training=49000, num_validation=1000, num_test=1000, num_dev=500):\n",
    "  \"\"\"\n",
    "  Load the CIFAR-10 dataset from disk and perform preprocessing to prepare\n",
    "  it for the linear classifier. These are the same steps as we used for the\n",
    "  SVM, but condensed to a single function.  \n",
    "  \"\"\"\n",
    "  # Load the raw CIFAR-10 data\n",
    "  cifar10_dir = 'cs231n/datasets/cifar-10-batches-py'\n",
    "  X_train, y_train, X_test, y_test = load_CIFAR10(cifar10_dir)\n",
    "  \n",
    "  # subsample the data\n",
    "  mask = range(num_training, num_training + num_validation)\n",
    "  X_val = X_train[mask]\n",
    "  y_val = y_train[mask]\n",
    "  mask = range(num_training)\n",
    "  X_train = X_train[mask]\n",
    "  y_train = y_train[mask]\n",
    "  mask = range(num_test)\n",
    "  X_test = X_test[mask]\n",
    "  y_test = y_test[mask]\n",
    "  mask = np.random.choice(num_training, num_dev, replace=False)\n",
    "  X_dev = X_train[mask]\n",
    "  y_dev = y_train[mask]\n",
    "  \n",
    "  # Preprocessing: reshape the image data into rows\n",
    "  X_train = np.reshape(X_train, (X_train.shape[0], -1))\n",
    "  X_val = np.reshape(X_val, (X_val.shape[0], -1))\n",
    "  X_test = np.reshape(X_test, (X_test.shape[0], -1))\n",
    "  X_dev = np.reshape(X_dev, (X_dev.shape[0], -1))\n",
    "  \n",
    "  # Normalize the data: subtract the mean image\n",
    "  mean_image = np.mean(X_train, axis = 0)\n",
    "  X_train -= mean_image\n",
    "  X_val -= mean_image\n",
    "  X_test -= mean_image\n",
    "  X_dev -= mean_image\n",
    "  \n",
    "  # add bias dimension and transform into columns\n",
    "  X_train = np.hstack([X_train, np.ones((X_train.shape[0], 1))])\n",
    "  X_val = np.hstack([X_val, np.ones((X_val.shape[0], 1))])\n",
    "  X_test = np.hstack([X_test, np.ones((X_test.shape[0], 1))])\n",
    "  X_dev = np.hstack([X_dev, np.ones((X_dev.shape[0], 1))])\n",
    "  \n",
    "  return X_train, y_train, X_val, y_val, X_test, y_test, X_dev, y_dev\n",
    "\n",
    "\n",
    "# Invoke the above function to get our data.\n",
    "X_train, y_train, X_val, y_val, X_test, y_test, X_dev, y_dev = get_CIFAR10_data()\n",
    "print 'Train data shape: ', X_train.shape\n",
    "print 'Train labels shape: ', y_train.shape\n",
    "print 'Validation data shape: ', X_val.shape\n",
    "print 'Validation labels shape: ', y_val.shape\n",
    "print 'Test data shape: ', X_test.shape\n",
    "print 'Test labels shape: ', y_test.shape\n",
    "print 'dev data shape: ', X_dev.shape\n",
    "print 'dev labels shape: ', y_dev.shape"
   ]
  },
  {
   "cell_type": "markdown",
   "metadata": {},
   "source": [
    "## Softmax Classifier\n",
    "\n",
    "Your code for this section will all be written inside **cs231n/classifiers/softmax.py**. \n"
   ]
  },
  {
   "cell_type": "code",
   "execution_count": 3,
   "metadata": {
    "collapsed": false
   },
   "outputs": [
    {
     "name": "stdout",
     "output_type": "stream",
     "text": [
      "\n",
      "\n",
      "\n",
      "\n",
      "True\n",
      "loss: 2.299661\n",
      "sanity check: 2.302585\n"
     ]
    }
   ],
   "source": [
    "# First implement the naive softmax loss function with nested loops.\n",
    "# Open the file cs231n/classifiers/softmax.py and implement the\n",
    "# softmax_loss_naive function.\n",
    "\n",
    "from cs231n.classifiers.softmax import softmax_loss_naive\n",
    "from cs231n.classifiers.softmax_2 import softmax_loss_naive_2\n",
    "import time\n",
    "\n",
    "# Generate a random softmax weight matrix and use it to compute the loss.\n",
    "W = np.random.randn(3073, 10) * 0.0001\n",
    "loss, grad = softmax_loss_naive(W, X_dev, y_dev, 0.0)\n",
    "print \"\"\n",
    "print \"\"\n",
    "print \"\"\n",
    "print \"\"\n",
    "loss_2, grad_2 = softmax_loss_naive_2(W, X_dev, y_dev, 0.0)\n",
    "\n",
    "# As a rough sanity check, our loss should be something close to -log(0.1).\n",
    "print np.array_equal(grad, grad_2)\n",
    "print 'loss: %f' % loss\n",
    "\n",
    "print 'sanity check: %f' % (-np.log(0.1))"
   ]
  },
  {
   "cell_type": "markdown",
   "metadata": {},
   "source": [
    "## Inline Question 1:\n",
    "Why do we expect our loss to be close to -log(0.1)? Explain briefly.**\n",
    "\n",
    "**Your answer:** *Fill this in*\n"
   ]
  },
  {
   "cell_type": "code",
   "execution_count": 4,
   "metadata": {
    "collapsed": false
   },
   "outputs": [
    {
     "name": "stdout",
     "output_type": "stream",
     "text": [
      "numerical: 0.743455 analytic: 0.743455, relative error: 1.274593e-09\n",
      "numerical: 1.881333 analytic: 1.881333, relative error: 5.960342e-09\n",
      "numerical: -1.777264 analytic: -1.777264, relative error: 3.474345e-08\n",
      "numerical: 0.564731 analytic: 0.564731, relative error: 1.757602e-07\n",
      "numerical: 1.334271 analytic: 1.334271, relative error: 1.322853e-08\n",
      "numerical: 2.107093 analytic: 2.107093, relative error: 3.382607e-09\n",
      "numerical: 1.673110 analytic: 1.673110, relative error: 7.085060e-09\n",
      "numerical: -0.663782 analytic: -0.663782, relative error: 5.770077e-08\n",
      "numerical: -1.611853 analytic: -1.611853, relative error: 5.027876e-09\n",
      "numerical: 2.671379 analytic: 2.671379, relative error: 3.763853e-09\n",
      "numerical: -0.018832 analytic: -0.728049, relative error: 9.495707e-01\n",
      "numerical: -0.401105 analytic: -3.986091, relative error: 8.171473e-01\n",
      "numerical: 0.137054 analytic: 1.057426, relative error: 7.705215e-01\n",
      "numerical: -0.158468 analytic: -0.573406, relative error: 5.669534e-01\n",
      "numerical: -0.018160 analytic: -0.024088, relative error: 1.403043e-01\n",
      "numerical: 0.221793 analytic: 2.206289, relative error: 8.173101e-01\n",
      "numerical: -0.032429 analytic: 0.051845, relative error: 1.000000e+00\n",
      "numerical: 0.047217 analytic: -0.053888, relative error: 1.000000e+00\n",
      "numerical: 0.153255 analytic: 1.866461, relative error: 8.482413e-01\n",
      "numerical: -0.058373 analytic: -0.666370, relative error: 8.389130e-01\n"
     ]
    }
   ],
   "source": [
    "# Complete the implementation of softmax_loss_naive and implement a (naive)\n",
    "# version of the gradient that uses nested loops.\n",
    "loss, grad = softmax_loss_naive_2(W, X_dev, y_dev, 0.0)\n",
    "\n",
    "# As we did for the SVM, use numeric gradient checking as a debugging tool.\n",
    "# The numeric gradient should be close to the analytic gradient.\n",
    "from cs231n.gradient_check import grad_check_sparse\n",
    "f = lambda w: softmax_loss_naive_2(w, X_dev, y_dev, 0.0)[0]\n",
    "grad_numerical = grad_check_sparse(f, W, grad, 10)\n",
    "\n",
    "# similar to SVM case, do another gradient check with regularization\n",
    "loss, grad = softmax_loss_naive_2(W, X_dev, y_dev, 1e2)\n",
    "f = lambda w: softmax_loss_naive(w, X_dev, y_dev, 1e2)[0]\n",
    "grad_numerical = grad_check_sparse(f, W, grad, 10)"
   ]
  },
  {
   "cell_type": "code",
   "execution_count": 8,
   "metadata": {
    "collapsed": false
   },
   "outputs": [
    {
     "name": "stdout",
     "output_type": "stream",
     "text": [
      "naive loss: 2.324158e+00 computed in 0.207539s\n",
      "vectorized loss: 2.324158e+00 computed in 0.015492s\n",
      "Loss difference: 0.000000\n",
      "Gradient difference: 0.000000\n"
     ]
    }
   ],
   "source": [
    "# Now that we have a naive implementation of the softmax loss function and its gradient,\n",
    "# implement a vectorized version in softmax_loss_vectorized.\n",
    "# The two versions should compute the same results, but the vectorized version should be\n",
    "# much faster.\n",
    "tic = time.time()\n",
    "loss_naive, grad_naive = softmax_loss_naive(W, X_dev, y_dev, 0.00001)\n",
    "toc = time.time()\n",
    "print 'naive loss: %e computed in %fs' % (loss_naive, toc - tic)\n",
    "\n",
    "from cs231n.classifiers.softmax import softmax_loss_vectorized\n",
    "tic = time.time()\n",
    "loss_vectorized, grad_vectorized = softmax_loss_vectorized(W, X_dev, y_dev, 0.00001)\n",
    "toc = time.time()\n",
    "print 'vectorized loss: %e computed in %fs' % (loss_vectorized, toc - tic)\n",
    "\n",
    "# As we did for the SVM, we use the Frobenius norm to compare the two versions\n",
    "# of the gradient.\n",
    "grad_difference = np.linalg.norm(grad_naive - grad_vectorized, ord='fro')\n",
    "print 'Loss difference: %f' % np.abs(loss_naive - loss_vectorized)\n",
    "print 'Gradient difference: %f' % grad_difference"
   ]
  },
  {
   "cell_type": "code",
   "execution_count": 9,
   "metadata": {
    "collapsed": false
   },
   "outputs": [
    {
     "name": "stdout",
     "output_type": "stream",
     "text": [
      "1e-08 1.0 0.189265306122 0.182\n",
      "1e-08 10.0 0.17887755102 0.161\n",
      "1e-08 500.0 0.17993877551 0.184\n",
      "1e-08 1000.0 0.175204081633 0.185\n",
      "1e-08 5000.0 0.172857142857 0.16\n",
      "1e-08 10000.0 0.178040816327 0.164\n",
      "1e-07 1.0 0.278510204082 0.297\n",
      "1e-07 10.0 0.276387755102 0.289\n",
      "1e-07 500.0 0.288265306122 0.311\n",
      "1e-07 1000.0 0.301693877551 0.301\n",
      "1e-07 5000.0 0.357897959184 0.374\n",
      "1e-07 10000.0 0.370244897959 0.382\n",
      "5e-06 1.0 0.382448979592 0.354\n",
      "5e-06 10.0 0.395 0.358\n",
      "5e-06 500.0 0.399734693878 0.388\n",
      "5e-06 1000.0 0.362428571429 0.359\n",
      "5e-06 5000.0 0.337897959184 0.348\n",
      "5e-06 10000.0 0.295142857143 0.33\n",
      "5e-05 1.0 0.267632653061 0.254\n",
      "5e-05 10.0 0.276816326531 0.277\n",
      "5e-05 500.0 0.262673469388 0.284\n",
      "5e-05 1000.0 0.251081632653 0.261\n",
      "5e-05 5000.0 0.186530612245 0.191\n",
      "5e-05 10000.0 0.149612244898 0.172\n",
      "lr 1.000000e+00 reg 1.000000e-08 train accuracy: 0.189265 val accuracy: 0.182000\n",
      "lr 1.000000e+00 reg 1.000000e-07 train accuracy: 0.278510 val accuracy: 0.297000\n",
      "lr 1.000000e+00 reg 5.000000e-06 train accuracy: 0.382449 val accuracy: 0.354000\n",
      "lr 1.000000e+00 reg 5.000000e-05 train accuracy: 0.267633 val accuracy: 0.254000\n",
      "lr 1.000000e+01 reg 1.000000e-08 train accuracy: 0.178878 val accuracy: 0.161000\n",
      "lr 1.000000e+01 reg 1.000000e-07 train accuracy: 0.276388 val accuracy: 0.289000\n",
      "lr 1.000000e+01 reg 5.000000e-06 train accuracy: 0.395000 val accuracy: 0.358000\n",
      "lr 1.000000e+01 reg 5.000000e-05 train accuracy: 0.276816 val accuracy: 0.277000\n",
      "lr 5.000000e+02 reg 1.000000e-08 train accuracy: 0.179939 val accuracy: 0.184000\n",
      "lr 5.000000e+02 reg 1.000000e-07 train accuracy: 0.288265 val accuracy: 0.311000\n",
      "lr 5.000000e+02 reg 5.000000e-06 train accuracy: 0.399735 val accuracy: 0.388000\n",
      "lr 5.000000e+02 reg 5.000000e-05 train accuracy: 0.262673 val accuracy: 0.284000\n",
      "lr 1.000000e+03 reg 1.000000e-08 train accuracy: 0.175204 val accuracy: 0.185000\n",
      "lr 1.000000e+03 reg 1.000000e-07 train accuracy: 0.301694 val accuracy: 0.301000\n",
      "lr 1.000000e+03 reg 5.000000e-06 train accuracy: 0.362429 val accuracy: 0.359000\n",
      "lr 1.000000e+03 reg 5.000000e-05 train accuracy: 0.251082 val accuracy: 0.261000\n",
      "lr 5.000000e+03 reg 1.000000e-08 train accuracy: 0.172857 val accuracy: 0.160000\n",
      "lr 5.000000e+03 reg 1.000000e-07 train accuracy: 0.357898 val accuracy: 0.374000\n",
      "lr 5.000000e+03 reg 5.000000e-06 train accuracy: 0.337898 val accuracy: 0.348000\n",
      "lr 5.000000e+03 reg 5.000000e-05 train accuracy: 0.186531 val accuracy: 0.191000\n",
      "lr 1.000000e+04 reg 1.000000e-08 train accuracy: 0.178041 val accuracy: 0.164000\n",
      "lr 1.000000e+04 reg 1.000000e-07 train accuracy: 0.370245 val accuracy: 0.382000\n",
      "lr 1.000000e+04 reg 5.000000e-06 train accuracy: 0.295143 val accuracy: 0.330000\n",
      "lr 1.000000e+04 reg 5.000000e-05 train accuracy: 0.149612 val accuracy: 0.172000\n",
      "best validation accuracy achieved during cross-validation: 0.388000\n"
     ]
    }
   ],
   "source": [
    "# Use the validation set to tune hyperparameters (regularization strength and\n",
    "# learning rate). You should experiment with different ranges for the learning\n",
    "# rates and regularization strengths; if you are careful you should be able to\n",
    "# get a classification accuracy of over 0.35 on the validation set.\n",
    "from cs231n.classifiers import Softmax\n",
    "results = {}\n",
    "best_val = -1\n",
    "best_softmax = None\n",
    "learning_rates = [1e-8, 1e-7, 5e-6, 5e-5]\n",
    "regularization_strengths = [1e0, 1e1, 5e2, 1e3, 5e3, 1e4]\n",
    "\n",
    "num_iterations = 3000\n",
    "\n",
    "for rate in learning_rates:\n",
    "    for strength in regularization_strengths:\n",
    "        softmax = Softmax()\n",
    "        loss_hist = softmax.train(X_train, y_train, learning_rate=rate, reg=strength,\n",
    "                      num_iters=num_iterations, verbose=False)\n",
    "        \n",
    "        y_train_pred = softmax.predict(X_train)\n",
    "        y_val_pred = softmax.predict(X_val)\n",
    "        \n",
    "        training_accuracy = np.mean(y_train == y_train_pred)\n",
    "        validation_accuracy = np.mean(y_val == y_val_pred)\n",
    "        \n",
    "        print rate, strength, training_accuracy, validation_accuracy\n",
    "        \n",
    "        if validation_accuracy > best_val:\n",
    "            best_val = validation_accuracy\n",
    "            best_softmax = softmax\n",
    "        \n",
    "        results[(strength, rate)] = (np.mean(y_train == y_train_pred), np.mean(y_val == y_val_pred))\n",
    "\n",
    "################################################################################\n",
    "# TODO:                                                                        #\n",
    "# Use the validation set to set the learning rate and regularization strength. #\n",
    "# This should be identical to the validation that you did for the SVM; save    #\n",
    "# the best trained softmax classifer in best_softmax.                          #\n",
    "################################################################################\n",
    "pass\n",
    "################################################################################\n",
    "#                              END OF YOUR CODE                                #\n",
    "################################################################################\n",
    "    \n",
    "# Print out results.\n",
    "for lr, reg in sorted(results):\n",
    "    train_accuracy, val_accuracy = results[(lr, reg)]\n",
    "    print 'lr %e reg %e train accuracy: %f val accuracy: %f' % (\n",
    "                lr, reg, train_accuracy, val_accuracy)\n",
    "    \n",
    "print 'best validation accuracy achieved during cross-validation: %f' % best_val"
   ]
  },
  {
   "cell_type": "code",
   "execution_count": 10,
   "metadata": {
    "collapsed": false
   },
   "outputs": [
    {
     "name": "stdout",
     "output_type": "stream",
     "text": [
      "softmax on raw pixels final test set accuracy: 0.371000\n"
     ]
    }
   ],
   "source": [
    "# evaluate on test set\n",
    "# Evaluate the best softmax on test set\n",
    "y_test_pred = best_softmax.predict(X_test)\n",
    "test_accuracy = np.mean(y_test == y_test_pred)\n",
    "print 'softmax on raw pixels final test set accuracy: %f' % (test_accuracy, )"
   ]
  },
  {
   "cell_type": "code",
   "execution_count": 11,
   "metadata": {
    "collapsed": false
   },
   "outputs": [
    {
     "data": {
      "image/png": "[encoded data removed]",
      "text/plain": [
       "<matplotlib.figure.Figure at 0x7fd1cbc06350>"
      ]
     },
     "metadata": {},
     "output_type": "display_data"
    }
   ],
   "source": [
    "# Visualize the learned weights for each class\n",
    "w = best_softmax.W[:-1,:] # strip out the bias\n",
    "w = w.reshape(32, 32, 3, 10)\n",
    "\n",
    "w_min, w_max = np.min(w), np.max(w)\n",
    "\n",
    "classes = ['plane', 'car', 'bird', 'cat', 'deer', 'dog', 'frog', 'horse', 'ship', 'truck']\n",
    "for i in xrange(10):\n",
    "  plt.subplot(2, 5, i + 1)\n",
    "  \n",
    "  # Rescale the weights to be between 0 and 255\n",
    "  wimg = 255.0 * (w[:, :, :, i].squeeze() - w_min) / (w_max - w_min)\n",
    "  plt.imshow(wimg.astype('uint8'))\n",
    "  plt.axis('off')\n",
    "  plt.title(classes[i])"
   ]
  }
 ],
 "metadata": {
  "kernelspec": {
   "display_name": "Python 2",
   "language": "python",
   "name": "python2"
  },
  "language_info": {
   "codemirror_mode": {
    "name": "ipython",
    "version": 2
   },
   "file_extension": ".py",
   "mimetype": "text/x-python",
   "name": "python",
   "nbconvert_exporter": "python",
   "pygments_lexer": "ipython2",
   "version": "2.7.13"
  }
 },
 "nbformat": 4,
 "nbformat_minor": 0
}
