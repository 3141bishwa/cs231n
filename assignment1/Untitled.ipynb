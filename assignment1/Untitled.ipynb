{
 "cells": [
  {
   "cell_type": "code",
   "execution_count": 90,
   "metadata": {
    "collapsed": false
   },
   "outputs": [
    {
     "name": "stdout",
     "output_type": "stream",
     "text": [
      "[[  1   2]\n",
      " [  3   4]\n",
      " [  5   6]\n",
      " [  1   7]\n",
      " [  3 400]\n",
      " [  2  54]\n",
      " [ 12  23]\n",
      " [  3   5]\n",
      " [  3 400]\n",
      " [  2  54]\n",
      " [ 12  23]\n",
      " [ 12   5]]\n"
     ]
    },
    {
     "data": {
      "text/plain": [
       "[array([[1, 2],\n",
       "        [3, 4],\n",
       "        [5, 6]]), array([[  1,   7],\n",
       "        [  3, 400],\n",
       "        [  2,  54]]), array([[12, 23],\n",
       "        [ 3,  5]]), array([[  3, 400],\n",
       "        [  2,  54]]), array([[12, 23],\n",
       "        [12,  5]])]"
      ]
     },
     "execution_count": 90,
     "metadata": {},
     "output_type": "execute_result"
    }
   ],
   "source": [
    "import numpy as np\n",
    "\n",
    "a = np.array([[1,2],[3,4],[5,6],[1,7], [3,400],[2,54],[12,23],[3,5], [3,400],[2,54],[12,23],[12,5]])\n",
    "\n",
    "print a\n",
    "np.array_split(a,5)"
   ]
  },
  {
   "cell_type": "code",
   "execution_count": 40,
   "metadata": {
    "collapsed": false
   },
   "outputs": [
    {
     "name": "stdout",
     "output_type": "stream",
     "text": [
      "[[ 1  4  9 16]\n",
      " [25 36 49 64]]\n",
      "[[  1   4   9  16]\n",
      " [ 25  36  49  64]\n",
      " [ 81 100 121 144]\n",
      " [  9  81  49 100]\n",
      " [  9  81  49 100]]\n",
      "[[ 30  70 110  82  82]\n",
      " [ 70 174 278 198 198]]\n",
      "30\n"
     ]
    },
    {
     "ename": "ValueError",
     "evalue": "operands could not be broadcast together with shapes (2,4) (5,4) ",
     "output_type": "error",
     "traceback": [
      "\u001b[0;31m---------------------------------------------------------------------------\u001b[0m",
      "\u001b[0;31mValueError\u001b[0m                                Traceback (most recent call last)",
      "\u001b[0;32m<ipython-input-40-92c89bcd0029>\u001b[0m in \u001b[0;36m<module>\u001b[0;34m()\u001b[0m\n\u001b[1;32m      9\u001b[0m \u001b[0;34m\u001b[0m\u001b[0m\n\u001b[1;32m     10\u001b[0m \u001b[0;34m\u001b[0m\u001b[0m\n\u001b[0;32m---> 11\u001b[0;31m \u001b[0;32mprint\u001b[0m \u001b[0ma\u001b[0m\u001b[0;34m**\u001b[0m\u001b[0;36m2\u001b[0m \u001b[0;34m-\u001b[0m \u001b[0mb\u001b[0m\u001b[0;34m**\u001b[0m\u001b[0;36m2\u001b[0m\u001b[0;34m\u001b[0m\u001b[0m\n\u001b[0m",
      "\u001b[0;31mValueError\u001b[0m: operands could not be broadcast together with shapes (2,4) (5,4) "
     ]
    }
   ],
   "source": [
    "a = np.array([[1,2,3,4],[5,6,7,8]])\n",
    "b = np.array([[1,2,3,4],[5,6,7,8],[9,10,11,12], [3,9,7,10], [3,9,7,10]])\n",
    "print a**2\n",
    "print b**2\n",
    "\n",
    "print np.dot(a,b.transpose())\n",
    "\n",
    "print np.dot([1,2,3,4], [1,2,3,4])\n",
    "\n",
    "\n",
    "print a**2 - b**2"
   ]
  },
  {
   "cell_type": "code",
   "execution_count": 82,
   "metadata": {
    "collapsed": false
   },
   "outputs": [
    {
     "name": "stdout",
     "output_type": "stream",
     "text": [
      "[[0 0 0]\n",
      " [0 0 0]]\n"
     ]
    }
   ],
   "source": [
    "a = np.array\n",
    "\n",
    "b = np.array([[1,2,3,4], [1,2,3,4], [1,2,3,4]])\n",
    "\n",
    "\n",
    "\n",
    "\n",
    "print np.sum(b**2, axis = 1) + np.sum(a**2, axis = 1)[:, np.newaxis]\n",
    "\n",
    "np.dot(a, b.T)\n",
    "#b.T.shape"
   ]
  }
 ],
 "metadata": {
  "kernelspec": {
   "display_name": "Python 2",
   "language": "python",
   "name": "python2"
  },
  "language_info": {
   "codemirror_mode": {
    "name": "ipython",
    "version": 2
   },
   "file_extension": ".py",
   "mimetype": "text/x-python",
   "name": "python",
   "nbconvert_exporter": "python",
   "pygments_lexer": "ipython2",
   "version": "2.7.13"
  }
 },
 "nbformat": 4,
 "nbformat_minor": 2
}
