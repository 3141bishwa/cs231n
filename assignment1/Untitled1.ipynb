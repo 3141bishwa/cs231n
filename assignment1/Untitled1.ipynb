{
 "cells": [
  {
   "cell_type": "code",
   "execution_count": 48,
   "metadata": {
    "collapsed": false
   },
   "outputs": [
    {
     "name": "stdout",
     "output_type": "stream",
     "text": [
      "[ 0.26894142  0.73105858]\n",
      "[[ 0.26894142  0.73105858]\n",
      " [ 0.26894142  0.73105858]]\n",
      "[[ 0.73105858  0.26894142]]\n"
     ]
    }
   ],
   "source": [
    "import numpy as np\n",
    "\n",
    "\n",
    "def softmax(X):\n",
    "    \n",
    "    if X.ndim > 1:\n",
    "        diff = np.exp(X - X.max(axis=1)[:, np.newaxis])\n",
    "        return diff/np.sum(diff, axis = 1)[:, np.newaxis]\n",
    "        \n",
    "    diff = np.exp(X - np.max(X))\n",
    "    return diff/np.sum(diff)\n",
    "\n",
    "\n",
    "test1 = softmax(np.array([1,2]))\n",
    "print test1\n",
    "assert np.amax(np.fabs(test1 - np.array(\n",
    "            [0.26894142,  0.73105858]))) <= 1e-6\n",
    "test2 = softmax(np.array([[1001,1002],[3,4]]))\n",
    "print test2\n",
    "assert np.amax(np.fabs(test2 - np.array(\n",
    "            [[0.26894142, 0.73105858], [0.26894142, 0.73105858]]))) <= 1e-6\n",
    "test3 = softmax(np.array([[-1001,-1002]]))\n",
    "print test3\n",
    "assert np.amax(np.fabs(test3 - np.array(\n",
    "            [0.73105858, 0.26894142]))) <= 1e-6"
   ]
  }
 ],
 "metadata": {
  "kernelspec": {
   "display_name": "Python 2",
   "language": "python",
   "name": "python2"
  },
  "language_info": {
   "codemirror_mode": {
    "name": "ipython",
    "version": 2
   },
   "file_extension": ".py",
   "mimetype": "text/x-python",
   "name": "python",
   "nbconvert_exporter": "python",
   "pygments_lexer": "ipython2",
   "version": "2.7.9"
  }
 },
 "nbformat": 4,
 "nbformat_minor": 1
}
